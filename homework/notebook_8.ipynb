{
 "cells": [
  {
   "cell_type": "code",
   "execution_count": null,
   "metadata": {},
   "outputs": [],
   "source": [
    "import warnings\n",
    "\n",
    "warnings.filterwarnings(\"ignore\")\n",
    "\n",
    "#\n",
    "# Carga de datos\n",
    "#\n",
    "import nbimporter  #  type: ignore\n",
    "import functions  #  type: ignore\n",
    "\n",
    "df_orig = functions.load_data()\n",
    "df_orig.head()\n"
   ]
  },
  {
   "cell_type": "code",
   "execution_count": null,
   "metadata": {},
   "outputs": [],
   "source": [
    "df_orig = functions.remove_trend_and_cycle(df_orig, yt_true_name=\"yt_true\")\n",
    "df_orig.head(20)"
   ]
  },
  {
   "cell_type": "code",
   "execution_count": null,
   "metadata": {},
   "outputs": [],
   "source": [
    "p_max = 13\n",
    "df_orig = functions.make_lagged_ts(\n",
    "    df=df_orig,\n",
    "    p_max=p_max,\n",
    "    y_column=\"yt_true_d1d12\",\n",
    "    fmt=\"lagged_{}m\",\n",
    ")\n",
    "df_orig.head(20)\n"
   ]
  },
  {
   "cell_type": "code",
   "execution_count": null,
   "metadata": {},
   "outputs": [],
   "source": [
    "df_dropna = df_orig.dropna()\n",
    "df_dropna.head()"
   ]
  },
  {
   "cell_type": "code",
   "execution_count": null,
   "metadata": {},
   "outputs": [],
   "source": [
    "(\n",
    "    X_complete,\n",
    "    y_complete,\n",
    "    X_train,\n",
    "    y_train,\n",
    "    X_test,\n",
    "    y_test,\n",
    ") = functions.train_test_split(\n",
    "    df=df_dropna,\n",
    "    x_columns=[f\"lagged_{i}m\" for i in range(1, 14)],\n",
    "    y_column=\"yt_true_d1d12\",\n",
    ")\n",
    "\n",
    "display(X_complete.head())\n",
    "display(y_complete.head())"
   ]
  },
  {
   "cell_type": "code",
   "execution_count": null,
   "metadata": {},
   "outputs": [],
   "source": [
    "from sklearn.pipeline import Pipeline  #  type: ignore\n",
    "from sklearn.preprocessing import MinMaxScaler  #  type: ignore\n",
    "from sklearn.compose import TransformedTargetRegressor  #  type: ignore\n",
    "from sklearn.neural_network import MLPRegressor  #  type: ignore\n",
    "\n",
    "\n",
    "# Crea un pipeline para automatizar la creacion de un modelo\n",
    "def make_pipeline_from_model(model):\n",
    "    \"\"\"Create a pipeline.\"\"\"\n",
    "    return Pipeline(\n",
    "        [\n",
    "            (\n",
    "                \"scaler\",\n",
    "                MinMaxScaler(),\n",
    "            ),\n",
    "            (\n",
    "                \"regressor\",\n",
    "                TransformedTargetRegressor(\n",
    "                    regressor=model,\n",
    "                    transformer=MinMaxScaler(),\n",
    "                ),\n",
    "            ),\n",
    "        ]\n",
    "    )"
   ]
  },
  {
   "cell_type": "code",
   "execution_count": null,
   "metadata": {},
   "outputs": [],
   "source": [
    "hidden = 4\n",
    "pipeline = make_pipeline_from_model(\n",
    "    model=MLPRegressor(\n",
    "        hidden_layer_sizes=(hidden,),\n",
    "        activation=\"logistic\",\n",
    "        learning_rate=\"adaptive\",\n",
    "        momentum=0.01,\n",
    "        learning_rate_init=0.2,\n",
    "        max_iter=10000,\n",
    "        random_state=12345,\n",
    "    )\n",
    ")\n",
    "pipeline.fit(X_train, y_train)\n",
    "\n",
    "df_dropna[f\"yt_d1d12_mlp\"] = pipeline.predict(X_complete)\n",
    "\n",
    "df_orig.loc[df_dropna.index, \"yt_d1d12_mlp\"] = df_dropna[f\"yt_d1d12_mlp\"]\n",
    "\n",
    "df_orig[\n",
    "    [\n",
    "        \"yt_true\",\n",
    "        \"yt_true_d1d12\",\n",
    "        f\"yt_d1d12_mlp\",\n",
    "    ]\n",
    "].head(40)"
   ]
  },
  {
   "cell_type": "code",
   "execution_count": null,
   "metadata": {},
   "outputs": [],
   "source": [
    "import numpy as np  #  type: ignore\n",
    "\n",
    "df_orig = df_orig.assign(yt_pred_d1d12_mlp=np.nan)\n",
    "df_orig.loc[df_dropna.index, \"yt_pred_d1d12_mlp\"] = df_dropna[\"yt_d1d12_mlp\"]\n",
    "df_orig[\"yt_pred_d1d12_mlp\"] += df_orig[\"yt_true\"].shift(1)\n",
    "df_orig[\"yt_pred_d1d12_mlp\"] += df_orig[\"yt_true\"].shift(12)\n",
    "df_orig[\"yt_pred_d1d12_mlp\"] -= df_orig[\"yt_true\"].shift(13)\n",
    "df_orig[[\"yt_true\", \"yt_pred_d1d12_mlp\"]].head(40)"
   ]
  },
  {
   "cell_type": "code",
   "execution_count": null,
   "metadata": {},
   "outputs": [],
   "source": [
    "functions.plot_time_series(df=df_orig, yt_col=\"yt_true\")"
   ]
  },
  {
   "cell_type": "code",
   "execution_count": null,
   "metadata": {},
   "outputs": [],
   "source": [
    "functions.save_forecasts(df_orig)"
   ]
  },
  {
   "cell_type": "code",
   "execution_count": null,
   "metadata": {},
   "outputs": [],
   "source": [
    "metrics = functions.compute_evaluation_metrics(df_orig.dropna())\n",
    "functions.save_metrics(metrics)\n",
    "metrics\n"
   ]
  },
  {
   "cell_type": "code",
   "execution_count": null,
   "metadata": {},
   "outputs": [],
   "source": []
  },
  {
   "cell_type": "code",
   "execution_count": null,
   "metadata": {},
   "outputs": [],
   "source": []
  },
  {
   "cell_type": "code",
   "execution_count": null,
   "metadata": {},
   "outputs": [],
   "source": []
  },
  {
   "cell_type": "code",
   "execution_count": null,
   "metadata": {},
   "outputs": [],
   "source": []
  },
  {
   "cell_type": "code",
   "execution_count": null,
   "metadata": {},
   "outputs": [],
   "source": []
  },
  {
   "cell_type": "code",
   "execution_count": null,
   "metadata": {},
   "outputs": [],
   "source": []
  },
  {
   "cell_type": "code",
   "execution_count": null,
   "metadata": {},
   "outputs": [],
   "source": []
  }
 ],
 "metadata": {
  "kernelspec": {
   "display_name": ".venv",
   "language": "python",
   "name": "python3"
  },
  "language_info": {
   "name": "python",
   "version": "3.10.9"
  }
 },
 "nbformat": 4,
 "nbformat_minor": 2
}
