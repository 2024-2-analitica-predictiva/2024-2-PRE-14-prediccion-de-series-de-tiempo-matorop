{
 "cells": [
  {
   "cell_type": "code",
   "execution_count": null,
   "metadata": {},
   "outputs": [],
   "source": [
    "import warnings\n",
    "\n",
    "warnings.filterwarnings(\"ignore\")\n",
    "\n",
    "#\n",
    "# Carga de datos\n",
    "#\n",
    "import nbimporter  #  type: ignore\n",
    "import functions  #  type: ignore\n",
    "\n",
    "\n",
    "df_orig = functions.load_data()\n",
    "df_orig.head()"
   ]
  },
  {
   "cell_type": "code",
   "execution_count": null,
   "metadata": {},
   "outputs": [],
   "source": [
    "df_orig = functions.make_lagged_ts(\n",
    "    df=df_orig,\n",
    "    p_max=13,\n",
    "    y_column=\"yt_true\",\n",
    "    fmt=\"lagged_{}m\",\n",
    ")\n",
    "df_orig.head()"
   ]
  },
  {
   "cell_type": "code",
   "execution_count": null,
   "metadata": {},
   "outputs": [],
   "source": [
    "df_dropna = df_orig.dropna()\n",
    "df_dropna.head()\n"
   ]
  },
  {
   "cell_type": "code",
   "execution_count": null,
   "metadata": {},
   "outputs": [],
   "source": [
    "(\n",
    "    X_complete,\n",
    "    y_complete,\n",
    "    X_train,\n",
    "    y_train,\n",
    "    X_test,\n",
    "    y_test,\n",
    ") = functions.train_test_split(\n",
    "    df=df_dropna,\n",
    "    x_columns=[f\"lagged_{i}m\" for i in range(1, 13)],\n",
    "    y_column=\"yt_true\",\n",
    ")\n",
    "X_complete.head()"
   ]
  },
  {
   "cell_type": "code",
   "execution_count": null,
   "metadata": {},
   "outputs": [],
   "source": [
    "from sklearn.pipeline import Pipeline  #  type: ignore\n",
    "from sklearn.preprocessing import MinMaxScaler  #  type: ignore\n",
    "from sklearn.compose import TransformedTargetRegressor  #  type: ignore\n",
    "from sklearn.neural_network import MLPRegressor  #  type: ignore\n",
    "\n",
    "\n",
    "# Crea un pipeline para automatizar la creacion de un modelo\n",
    "def make_pipeline_from_model(model):\n",
    "    \"\"\"Create a pipeline.\"\"\"\n",
    "    return Pipeline(\n",
    "        [\n",
    "            (\n",
    "                \"scaler\",\n",
    "                MinMaxScaler(),\n",
    "            ),\n",
    "            (\n",
    "                \"regressor\",\n",
    "                TransformedTargetRegressor(\n",
    "                    regressor=model,\n",
    "                    transformer=MinMaxScaler(),\n",
    "                ),\n",
    "            ),\n",
    "        ]\n",
    "    )"
   ]
  },
  {
   "cell_type": "code",
   "execution_count": null,
   "metadata": {},
   "outputs": [],
   "source": [
    "hidden = 30\n",
    "mlp_model = MLPRegressor(\n",
    "    hidden_layer_sizes=(hidden,),\n",
    "    activation=\"relu\",\n",
    "    learning_rate=\"adaptive\",\n",
    "    momentum=0.01,\n",
    "    learning_rate_init=0.2,\n",
    "    max_iter=10000,\n",
    "    random_state=123456,\n",
    ")\n",
    "mlp_pipeline = make_pipeline_from_model(model=mlp_model)\n",
    "mlp_pipeline.fit(X_train, y_train)\n",
    "\n",
    "df_dropna[f\"yt_pred_mlp_{hidden}\"] = mlp_pipeline.predict(X_complete)\n",
    "df_dropna[[\"yt_true\", f\"yt_pred_mlp_{hidden}\"]].head()"
   ]
  },
  {
   "cell_type": "code",
   "execution_count": null,
   "metadata": {},
   "outputs": [],
   "source": [
    "df_orig.loc[df_dropna.index, f\"yt_pred_mlp_{hidden}\"] = df_dropna[\n",
    "    f\"yt_pred_mlp_{hidden}\"\n",
    "]\n",
    "\n",
    "functions.plot_time_series(df=df_orig, yt_col=\"yt_true\")"
   ]
  },
  {
   "cell_type": "code",
   "execution_count": null,
   "metadata": {},
   "outputs": [],
   "source": [
    "functions.save_forecasts(df_orig)"
   ]
  },
  {
   "cell_type": "code",
   "execution_count": null,
   "metadata": {},
   "outputs": [],
   "source": [
    "metrics = functions.compute_evaluation_metrics(df_orig.dropna())\n",
    "functions.save_metrics(metrics)\n",
    "metrics\n"
   ]
  }
 ],
 "metadata": {
  "kernelspec": {
   "display_name": ".venv",
   "language": "python",
   "name": "python3"
  },
  "language_info": {
   "name": "python",
   "version": "3.10.9"
  }
 },
 "nbformat": 4,
 "nbformat_minor": 2
}
